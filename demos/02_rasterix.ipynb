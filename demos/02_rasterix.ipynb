{
 "cells": [
  {
   "cell_type": "markdown",
   "id": "f7f940e2",
   "metadata": {},
   "source": [
    "# Getting started\n",
    "\n",
    "Create an environment using `pixi install -e demo` then start the `demo` kernel."
   ]
  },
  {
   "cell_type": "code",
   "execution_count": 1,
   "id": "f8878ffa",
   "metadata": {},
   "outputs": [],
   "source": [
    "from virtual_tiff import VirtualTIFF\n",
    "from obstore.store import LocalStore\n",
    "import xarray as xr\n",
    "import rioxarray\n",
    "import zarr\n",
    "import numpy as np"
   ]
  },
  {
   "cell_type": "code",
   "execution_count": null,
   "id": "36b2694a",
   "metadata": {},
   "outputs": [],
   "source": [
    "zarr.config.set({\"async.concurrency\": 100})"
   ]
  },
  {
   "cell_type": "code",
   "execution_count": null,
   "id": "992174af",
   "metadata": {},
   "outputs": [],
   "source": [
    "parser = VirtualTIFF(ifd=0)\n",
    "store = LocalStore()\n",
    "filepath = \"/Users/max/Documents/Code/virtual-zarr/virtual-tiff/tests/dvc/github/20250331090000-JPL-L4_GHRSST-SSTfnd-MUR-GLOB-v02.0-fv04.1_analysed_sst.tif\"\n",
    "# filepath = \"/Users/max/Documents/Code/virtual-zarr/virtual-tiff/tests/dvc/github/rema_mosaic_1km_v2.0_filled_cop30_dem.tif\"\n",
    "# ilepath = \"/Users/max/Documents/Code/virtual-zarr/virtual-tiff/tests/dvc/github/LC08_L2SP_046027_20201229_20210310_02_T2_SR_B2.TIF\"\n",
    "ms = parser(filepath=filepath, object_store=store)\n",
    "da = xr.open_zarr(ms, consolidated=False, zarr_format=3)[\"0\"]\n",
    "ra = rioxarray.open_rasterio(filepath)"
   ]
  },
  {
   "cell_type": "code",
   "execution_count": null,
   "id": "d2c3b03e",
   "metadata": {},
   "outputs": [],
   "source": [
    "ra.load()"
   ]
  },
  {
   "cell_type": "code",
   "execution_count": null,
   "id": "39b5dbf3",
   "metadata": {},
   "outputs": [],
   "source": [
    "da.load()"
   ]
  },
  {
   "cell_type": "code",
   "execution_count": null,
   "id": "1e82d9e1",
   "metadata": {},
   "outputs": [],
   "source": [
    "np.testing.assert_allclose(da.data.squeeze(), ra.data.squeeze())"
   ]
  },
  {
   "cell_type": "code",
   "execution_count": null,
   "id": "f6a65d86",
   "metadata": {},
   "outputs": [],
   "source": [
    "# da.plot()"
   ]
  },
  {
   "cell_type": "code",
   "execution_count": null,
   "id": "40a24e55",
   "metadata": {},
   "outputs": [],
   "source": [
    "# ra.plot()"
   ]
  },
  {
   "cell_type": "code",
   "execution_count": null,
   "id": "55af2a07",
   "metadata": {},
   "outputs": [],
   "source": []
  }
 ],
 "metadata": {
  "kernelspec": {
   "display_name": "Python 3",
   "language": "python",
   "name": "python3"
  },
  "language_info": {
   "codemirror_mode": {
    "name": "ipython",
    "version": 3
   },
   "file_extension": ".py",
   "mimetype": "text/x-python",
   "name": "python",
   "nbconvert_exporter": "python",
   "pygments_lexer": "ipython3",
   "version": "3.13.3"
  }
 },
 "nbformat": 4,
 "nbformat_minor": 5
}
